{
 "cells": [
  {
   "cell_type": "markdown",
   "id": "fe12c203-e6a6-452c-a655-afb8a03a4ff5",
   "metadata": {},
   "source": [
    "# End of week 1 exercise\n",
    "\n",
    "To demonstrate your familiarity with OpenAI API, and also Ollama, build a tool that takes a technical question,  \n",
    "and responds with an explanation. This is a tool that you will be able to use yourself during the course!"
   ]
  },
  {
   "cell_type": "code",
   "execution_count": 1,
   "id": "c1070317-3ed9-4659-abe3-828943230e03",
   "metadata": {},
   "outputs": [],
   "source": [
    "# imports\n",
    "from dotenv import load_dotenv\n",
    "from IPython.display import Markdown, display, update_display\n",
    "from openai import OpenAI\n",
    "import ollama"
   ]
  },
  {
   "cell_type": "code",
   "execution_count": 2,
   "id": "4a456906-915a-4bfd-bb9d-57e505c5093f",
   "metadata": {},
   "outputs": [],
   "source": [
    "# constants\n",
    "\n",
    "MODEL_GPT = 'gpt-4o-mini'\n",
    "MODEL_LLAMA = 'llama3.2'"
   ]
  },
  {
   "cell_type": "code",
   "execution_count": 3,
   "id": "a8d7923c-5f28-4c30-8556-342d7c8497c1",
   "metadata": {},
   "outputs": [],
   "source": [
    "# set up environment\n",
    "load_dotenv()\n",
    "ai = OpenAI()"
   ]
  },
  {
   "cell_type": "code",
   "execution_count": 4,
   "id": "3f0d0137-52b0-47a8-81a8-11a90a010798",
   "metadata": {},
   "outputs": [],
   "source": [
    "# here is the question; type over this to ask something new\n",
    "\n",
    "question = \"\"\"\n",
    "Please explain what this code does and why:\n",
    "yield from {book.get(\"author\") for book in books if book.get(\"author\")}\n",
    "\"\"\""
   ]
  },
  {
   "cell_type": "code",
   "execution_count": 7,
   "id": "67346c42-2837-4dc0-b7b1-dbfd746f98ad",
   "metadata": {},
   "outputs": [],
   "source": [
    "system_prompt = \"You are a helpful technical tutor who answers questions about python code, software engineering, data science and LLMs\"\n",
    "user_prompt = \"Please give a detailed explanation to the following question: \" + question"
   ]
  },
  {
   "cell_type": "code",
   "execution_count": 8,
   "id": "730344c5-0edb-49c0-b9b5-6537a5ddcd6e",
   "metadata": {},
   "outputs": [],
   "source": [
    "messages = [\n",
    "    {\"role\": \"system\", \"content\": system_prompt},\n",
    "    {\"role\": \"user\", \"content\": user_prompt}\n",
    "]"
   ]
  },
  {
   "cell_type": "code",
   "execution_count": 10,
   "id": "2c2b35ba-fe9b-49fb-a013-9b4ac24ae356",
   "metadata": {},
   "outputs": [
    {
     "data": {
      "text/markdown": [
       "This line of code uses a combination of a generator and a set comprehension to yield values derived from a collection of book objects (which, presumably, are dictionaries) stored in a variable called `books`. Let's break this down step by step:\n",
       "\n",
       "### Components of the Code\n",
       "\n",
       "1. **`yield from` Statement**:\n",
       "   - The `yield from` syntax allows a generator to yield all values from an iterable. It delegates part of its operations to another generator or an iterable, in this case, a set comprehension.\n",
       "   - This is useful for simplifying generator functions that need to combine multiple sources of values or when you want to yield values directly from another iterable without having to loop over it explicitly.\n",
       "\n",
       "2. **Set Comprehension**:\n",
       "   - The part `{book.get(\"author\") for book in books if book.get(\"author\")}` is a set comprehension. This creates a set (a collection of unique items) from the values yielded by the expression within the curly braces.\n",
       "   - Inside the comprehension:\n",
       "     - `for book in books`: This iterates over each book object in the `books` list.\n",
       "     - `book.get(\"author\")`: This retrieves the value associated with the key `\"author\"` from each `book` dictionary. If the `\"author\"` key does not exist for a particular book, `get` returns `None`.\n",
       "     - `if book.get(\"author\")`: This condition ensures that only books with a non-None author are included in the set. Thus, it filters out books without an author.\n",
       "\n",
       "### What This Code Does\n",
       "\n",
       "Putting it all together, the line effectively:\n",
       "1. Iterates through a collection of book dictionaries stored in the `books` variable.\n",
       "2. Fetches the authors of the books, ensuring that only non-empty (i.e., not `None`) authors are included.\n",
       "3. Constructs a set of unique author names from the filtered results.\n",
       "4. Yields each author name one at a time when called (because of `yield from`), allowing for consuming this generator in a loop or further processing.\n",
       "\n",
       "### Why Use This Code?\n",
       "\n",
       "1. **Uniqueness**: By using a set comprehension, it ensures that each author is yielded only once, even if they appear in multiple book records.\n",
       "2. **Simplicity and Readability**: The use of `yield from` simplifies the code that would otherwise require a nested loop if we were to collect authors in a more traditional manner.\n",
       "3. **Lazy Evaluation**: Being a generator, it allows for lazy evaluation. This means that the authors are only computed and yielded as needed, which can be beneficial in terms of memory usage, especially if the full list of authors is large.\n",
       "\n",
       "### Example\n",
       "\n",
       "Suppose we have the following list of books:\n",
       "\n",
       "python\n",
       "books = [\n",
       "    {\"title\": \"Book One\", \"author\": \"Author A\"},\n",
       "    {\"title\": \"Book Two\", \"author\": \"Author B\"},\n",
       "    {\"title\": \"Book Three\", \"author\": \"Author A\"},\n",
       "    {\"title\": \"Book Four\", \"author\": None},\n",
       "    {\"title\": \"Book Five\", \"author\": \"Author C\"},\n",
       "]\n",
       "\n",
       "\n",
       "Executing the code:\n",
       "\n",
       "python\n",
       "for author in (yield from {book.get(\"author\") for book in books if book.get(\"author\")}):\n",
       "    print(author)\n",
       "\n",
       "\n",
       "This would yield:\n",
       "\n",
       "\n",
       "Author A\n",
       "Author B\n",
       "Author C\n",
       "\n",
       "\n",
       "Note that \"Author A\" appears only once in the output despite being associated with multiple books, and the book with the `None` author is excluded from the results. \n",
       "\n",
       "In summary, this line of code is a concise, efficient way to extract unique authors from a collection of book dictionaries while handling potential missing `author` fields gracefully."
      ],
      "text/plain": [
       "<IPython.core.display.Markdown object>"
      ]
     },
     "metadata": {},
     "output_type": "display_data"
    }
   ],
   "source": [
    "stream = ai.chat.completions.create(model=MODEL_GPT, messages=messages,stream=True)\n",
    "    \n",
    "response = \"\"\n",
    "display_handle = display(Markdown(\"\"), display_id=True)\n",
    "for chunk in stream:\n",
    "    response += chunk.choices[0].delta.content or ''\n",
    "    response = response.replace(\"```\",\"\").replace(\"markdown\", \"\")\n",
    "    update_display(Markdown(response), display_id=display_handle.display_id)"
   ]
  },
  {
   "cell_type": "code",
   "execution_count": 12,
   "id": "8f7c8ea8-4082-4ad0-8751-3301adcf6538",
   "metadata": {},
   "outputs": [
    {
     "data": {
      "text/markdown": [
       "**Generator Expression Explanation**\n",
       "\n",
       "The given code is an example of a generator expression, which is a concise way to create generators in Python. Let's break it down:\n",
       "\n",
       "```python\n",
       "yield from {book.get(\"author\") for book in books if book.get(\"author\")}\n",
       "```\n",
       "\n",
       "This line does several things at once. Here's what happens when we run this code:\n",
       "\n",
       "1. `books` is assumed to be a list (or some other iterable) of dictionaries, where each dictionary represents a \"book\" with its attributes.\n",
       "\n",
       "2. The expression `{... for ... in ... if ...}` is the syntax for creating a set comprehension (note that it's actually using a dict comprehension under the hood because `get` returns an empty string (`\"\"`) by default when key is not present).\n",
       "\n",
       "   - `for book in books`: This part iterates over each dictionary `book` in the `books` list.\n",
       "\n",
       "   - `if book.get(\"author\")`: Before yielding each author, it filters out any dictionaries that don't have an \"author\" key. This ensures we only process dictionaries with relevant data.\n",
       "\n",
       "3. `yield from {...}`: This is where things get interesting. In Python 3.3 and later versions, the `yield from` syntax allows us to \" delegate\" the iteration over a sub-generator (the expression in the curly brackets) to a larger generator (this outer expression).\n",
       "\n",
       "   - The set comprehension (`{book.get(\"author\") for book in books if book.get(\"author\")}`) generates an iterable sequence of authors. This sequence is then passed to `yield from`, which \"yields\" each item in this sequence, one by one.\n",
       "\n",
       "4. **Why use a generator expression?** In this context, the key benefit of using `yield from` with a set comprehension is that we avoid creating unnecessary intermediate lists or sets. When working with large datasets, using generators can help reduce memory usage.\n",
       "\n",
       "Here's an example to make it clearer:\n",
       "\n",
       "```python\n",
       "def find_authors(books):\n",
       "    for book in books:\n",
       "        if \"author\" in book:\n",
       "            yield from {book[\"author\"]}\n",
       "```\n",
       "\n",
       "This does exactly the same thing as the original expression but with more lines of code. The `yield from` syntax allows us to write more concise and expressive code.\n",
       "\n",
       "In terms of memory efficiency, let's compare how these two approaches use memory:\n",
       "\n",
       "- **With a set comprehension**: The entire list of dictionaries is first stored in memory, then we compute the authors. This uses O(n) space where n is the number of books.\n",
       "  \n",
       "- **Using `yield from`**: We iterate over the dictionary list and yield each author one by one, without storing them in an intermediate data structure. This uses O(1) extra space because we only store one element at a time.\n",
       "\n",
       "Overall, using `yield from` with a set comprehension is more memory-efficient for handling large datasets while still providing clear readability of intent."
      ],
      "text/plain": [
       "<IPython.core.display.Markdown object>"
      ]
     },
     "metadata": {},
     "output_type": "display_data"
    }
   ],
   "source": [
    "# Get Llama 3.2 to answer\n",
    "res = ollama.chat(model=MODEL_LLAMA, messages=messages)\n",
    "reply = res['message']['content']\n",
    "display(Markdown(reply))"
   ]
  }
 ],
 "metadata": {
  "kernelspec": {
   "display_name": "Python 3 (ipykernel)",
   "language": "python",
   "name": "python3"
  },
  "language_info": {
   "codemirror_mode": {
    "name": "ipython",
    "version": 3
   },
   "file_extension": ".py",
   "mimetype": "text/x-python",
   "name": "python",
   "nbconvert_exporter": "python",
   "pygments_lexer": "ipython3",
   "version": "3.11.11"
  }
 },
 "nbformat": 4,
 "nbformat_minor": 5
}
