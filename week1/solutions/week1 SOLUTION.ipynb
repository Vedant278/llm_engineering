{
 "cells": [
  {
   "cell_type": "markdown",
   "id": "fe12c203-e6a6-452c-a655-afb8a03a4ff5",
   "metadata": {},
   "source": [
    "# End of week 1 solution\n",
    "\n",
    "To demonstrate your familiarity with OpenAI API, and also Ollama, build a tool that takes a technical question,  \n",
    "and responds with an explanation. This is a tool that you will be able to use yourself during the course!\n",
    "\n",
    "After week 2 you'll be able to add a User Interface to this tool, giving you a valuable application."
   ]
  },
  {
   "cell_type": "code",
   "execution_count": 1,
   "id": "c1070317-3ed9-4659-abe3-828943230e03",
   "metadata": {},
   "outputs": [],
   "source": [
    "# imports\n",
    "\n",
    "from dotenv import load_dotenv\n",
    "from IPython.display import Markdown, display, update_display\n",
    "from openai import OpenAI\n",
    "import ollama"
   ]
  },
  {
   "cell_type": "code",
   "execution_count": 2,
   "id": "4a456906-915a-4bfd-bb9d-57e505c5093f",
   "metadata": {},
   "outputs": [],
   "source": [
    "# constants\n",
    "\n",
    "MODEL_GPT = 'gpt-4o-mini'\n",
    "MODEL_LLAMA = 'llama3.2'"
   ]
  },
  {
   "cell_type": "code",
   "execution_count": 3,
   "id": "a8d7923c-5f28-4c30-8556-342d7c8497c1",
   "metadata": {},
   "outputs": [],
   "source": [
    "# set up environment\n",
    "\n",
    "load_dotenv()\n",
    "openai = OpenAI()\n"
   ]
  },
  {
   "cell_type": "code",
   "execution_count": 4,
   "id": "3f0d0137-52b0-47a8-81a8-11a90a010798",
   "metadata": {},
   "outputs": [],
   "source": [
    "# here is the question; type over this to ask something new\n",
    "\n",
    "question = \"\"\"\n",
    "Please explain what this code does and why:\n",
    "yield from {book.get(\"author\") for book in books if book.get(\"author\")}\n",
    "\"\"\""
   ]
  },
  {
   "cell_type": "code",
   "execution_count": 5,
   "id": "8595807b-8ae2-4e1b-95d9-e8532142e8bb",
   "metadata": {},
   "outputs": [],
   "source": [
    "# prompts\n",
    "\n",
    "system_prompt = \"You are a helpful technical tutor who answers questions about python code, software engineering, data science and LLMs\"\n",
    "user_prompt = \"Please give a detailed explanation to the following question: \" + question"
   ]
  },
  {
   "cell_type": "code",
   "execution_count": 6,
   "id": "9605cbb6-3d3f-4969-b420-7f4cae0b9328",
   "metadata": {},
   "outputs": [],
   "source": [
    "# messages\n",
    "\n",
    "messages = [\n",
    "    {\"role\": \"system\", \"content\": system_prompt},\n",
    "    {\"role\": \"user\", \"content\": user_prompt}\n",
    "]"
   ]
  },
  {
   "cell_type": "code",
   "execution_count": 7,
   "id": "60ce7000-a4a5-4cce-a261-e75ef45063b4",
   "metadata": {},
   "outputs": [
    {
     "data": {
      "text/markdown": [
       "Sure! Let’s break down this code step by step to understand what it does and why it's structured in this way.\n",
       "\n",
       "### Code Breakdown\n",
       "\n",
       "1. **Understanding the Context**:\n",
       "   - The code snippet uses a Python feature called a \"generator\" (which is typically defined using `yield`) and a set comprehension. \n",
       "   - The variable `books` is presumably a list (or similar iterable) of dictionaries, where each dictionary represents a book and may contain various attributes, like the title, author, year of publication, etc.\n",
       "\n",
       "2. **Set Comprehension**:\n",
       "   - `{book.get(\"author\") for book in books if book.get(\"author\")}` is a set comprehension. A set comprehension is used to create a set (which naturally prevents duplicate entries) based on a specified condition.\n",
       "   - Here’s how this comprehension works:\n",
       "     - **`for book in books`**: This part iterates over each `book` in the `books` list.\n",
       "     - **`book.get(\"author\")`**: The `.get()` method is used to retrieve the value associated with the key `\"author\"` from the `book` dictionary. If the key does not exist, it returns `None` instead of raising a KeyError.\n",
       "     - **`if book.get(\"author\")`**: This condition filters the results, ensuring that only books with a valid (non-None) author are processed. If the author is `None` or doesn't exist, that specific book is skipped.\n",
       "   - The result of this set comprehension is a set containing the unique authors of the books, as it collects authors that exist in the `books` list.\n",
       "\n",
       "3. **Using `yield from`**:\n",
       "   - The `yield from` expression is used to yield all values from an iterable in a generator function. It simplifies the process of returning values from another generator or iterable.\n",
       "   - In this code, `yield from` is yielding all unique authors collected by the set comprehension as separate values in the context of a generator.\n",
       "   - This means if this line is inside a function (marked as a generator using the `def` keyword followed by `yield`), it will allow calling code to iterate over the unique authors one at a time.\n",
       "\n",
       "### Example Scenario\n",
       "\n",
       "Suppose `books` looks like this:\n",
       "\n",
       "python\n",
       "books = [\n",
       "    {\"title\": \"Book 1\", \"author\": \"Alice\"},\n",
       "    {\"title\": \"Book 2\", \"author\": \"Bob\"},\n",
       "    {\"title\": \"Book 3\"},  # no author\n",
       "    {\"title\": \"Book 4\", \"author\": \"Alice\"}, \n",
       "    {\"title\": \"Book 5\", \"author\": None}   # no author\n",
       "]\n",
       "\n",
       "\n",
       "When you run the line:\n",
       "\n",
       "python\n",
       "yield from {book.get(\"author\") for book in books if book.get(\"author\")}\n",
       "\n",
       "\n",
       "1. The set comprehension goes through each book and retrieves the authors:\n",
       "    - For \"Book 1\", it will get \"Alice\".\n",
       "    - For \"Book 2\", it will get \"Bob\".\n",
       "    - For \"Book 3\", it will be skipped (no author).\n",
       "    - For \"Book 4\", it will also get \"Alice\" (already noted, but that's okay in a set).\n",
       "    - For \"Book 5\", it will be skipped (no author).\n",
       "2. The resulting set will be `{\"Alice\", \"Bob\"}`.\n",
       "3. `yield from` will yield \"Alice\" followed by \"Bob\" (in no guaranteed order since sets are unordered).\n",
       "\n",
       "### Summary\n",
       "\n",
       "- The line of code yields unique authors from a list of books, ensuring only those with valid author entries are considered.\n",
       "- This approach takes advantage of Python's set for removing duplicates and provides a generator style output through `yield from`, which allows for efficient iteration over the results. \n",
       "\n",
       "This is particularly useful in scenarios where you want to process or display unique authors efficiently, often seen in data processing pipelines or when developing features for applications that handle books or similar collections."
      ],
      "text/plain": [
       "<IPython.core.display.Markdown object>"
      ]
     },
     "metadata": {},
     "output_type": "display_data"
    }
   ],
   "source": [
    "# Get gpt-4o-mini to answer, with streaming\n",
    "\n",
    "stream = openai.chat.completions.create(model=MODEL_GPT, messages=messages,stream=True)\n",
    "    \n",
    "response = \"\"\n",
    "display_handle = display(Markdown(\"\"), display_id=True)\n",
    "for chunk in stream:\n",
    "    response += chunk.choices[0].delta.content or ''\n",
    "    response = response.replace(\"```\",\"\").replace(\"markdown\", \"\")\n",
    "    update_display(Markdown(response), display_id=display_handle.display_id)"
   ]
  },
  {
   "cell_type": "code",
   "execution_count": 8,
   "id": "8f7c8ea8-4082-4ad0-8751-3301adcf6538",
   "metadata": {},
   "outputs": [
    {
     "data": {
      "text/markdown": [
       "**Declarative Generator Expression**\n",
       "\n",
       "The provided code snippet is an example of a declarative generator expression. It's used to generate a sequence of values while filtering out non-matching items.\n",
       "\n",
       "Here's a breakdown of the code:\n",
       "\n",
       "```python\n",
       "yield from {book.get(\"author\") for book in books if book.get(\"author\")}\n",
       "```\n",
       "\n",
       "**Key Components:**\n",
       "\n",
       "1. `{... for ...}` - This is a generator expression, which allows us to generate a sequence of values on-the-fly.\n",
       "2. `yield from` - This keyword is used to delegate the iteration over another iterable (in this case, the dictionary literal) to the caller.\n",
       "3. `.get(\"author\")` - This is a method call that attempts to retrieve the value associated with the key `\"author\"` for each item in the dictionary.\n",
       "\n",
       "**What does it do?**\n",
       "\n",
       "The code will yield each unique author name from the `books` list of dictionaries, filtering out any books without an `author` field. The resulting generator yields only the authors, not the entire book data.\n",
       "\n",
       "**Step-by-Step Explanation:**\n",
       "\n",
       "1. Iterate over the `books` list using a `for` loop.\n",
       "2. For each book in the list:\n",
       "\t* Attempt to retrieve the value associated with the key `\"author\"` using `.get(\"author\")`.\n",
       "\t* If the key exists, add its value to the generator expression `{...}`.\n",
       "3. The `yield from` keyword delegates the iteration over the generated dictionary (containing author names) to the caller.\n",
       "\n",
       "**Why is it used?**\n",
       "\n",
       "This code snippet uses a declarative approach to filter and generate values. By using a generator expression with `yield from`, we can separate the data generation logic from the filtering logic, making the code more readable and maintainable.\n",
       "\n",
       "In the context of data processing or data scraping, this could be used to extract specific fields (like authors) from a large dataset without loading the entire dataset into memory. The generator expression ensures that only unique values are yielded, reducing memory usage and improving performance.\n",
       "\n",
       "**Example Use Case:**\n",
       "\n",
       "Suppose you have a list of book dictionaries with varying structures:\n",
       "```python\n",
       "books = [\n",
       "    {\"title\": \"Book 1\", \"author\": \"Author 1\"},\n",
       "    {\"title\": \"Book 2\"},\n",
       "    {\"title\": \"Book 3\", \"author\": \"Author 2\"},\n",
       "    {\"title\": \"Book 4\"}\n",
       "]\n",
       "```\n",
       "Using the provided code, you can generate a sequence of unique author names:\n",
       "```python\n",
       "authors = yield from {book.get(\"author\") for book in books if book.get(\"author\")}\n",
       "print(authors)  # Output: [\"Author 1\", \"Author 2\"]\n",
       "```\n",
       "The `authored` variable would contain an iterator that yields the same values."
      ],
      "text/plain": [
       "<IPython.core.display.Markdown object>"
      ]
     },
     "metadata": {},
     "output_type": "display_data"
    }
   ],
   "source": [
    "# Get Llama 3.2 to answer\n",
    "\n",
    "response = ollama.chat(model=MODEL_LLAMA, messages=messages)\n",
    "reply = response['message']['content']\n",
    "display(Markdown(reply))"
   ]
  },
  {
   "cell_type": "markdown",
   "id": "7e14bcdb-b928-4b14-961e-9f7d8c7335bf",
   "metadata": {},
   "source": [
    "# Congratulations!\n",
    "\n",
    "You could make it better by taking in the question using  \n",
    "`my_question = input(\"Please enter your question:\")`\n",
    "\n",
    "And then creating the prompts and making the calls interactively."
   ]
  },
  {
   "cell_type": "code",
   "execution_count": null,
   "id": "da663d73-dd2a-4fff-84df-2209cf2b330b",
   "metadata": {},
   "outputs": [],
   "source": []
  }
 ],
 "metadata": {
  "kernelspec": {
   "display_name": "Python 3 (ipykernel)",
   "language": "python",
   "name": "python3"
  },
  "language_info": {
   "codemirror_mode": {
    "name": "ipython",
    "version": 3
   },
   "file_extension": ".py",
   "mimetype": "text/x-python",
   "name": "python",
   "nbconvert_exporter": "python",
   "pygments_lexer": "ipython3",
   "version": "3.11.11"
  }
 },
 "nbformat": 4,
 "nbformat_minor": 5
}
